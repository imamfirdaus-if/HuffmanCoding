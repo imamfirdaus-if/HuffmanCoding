{
  "nbformat": 4,
  "nbformat_minor": 0,
  "metadata": {
    "colab": {
      "name": "HuffmanCoding_Statis.ipynb",
      "provenance": [],
      "authorship_tag": "ABX9TyOgp2WznB0VvUEnw0TKPuaV",
      "include_colab_link": true
    },
    "kernelspec": {
      "name": "python3",
      "display_name": "Python 3"
    },
    "language_info": {
      "name": "python"
    }
  },
  "cells": [
    {
      "cell_type": "markdown",
      "metadata": {
        "id": "view-in-github",
        "colab_type": "text"
      },
      "source": [
        "<a href=\"https://colab.research.google.com/github/imamfirdaus-if/HuffmanCoding/blob/main/HuffmanCoding_Statis.ipynb\" target=\"_parent\"><img src=\"https://colab.research.google.com/assets/colab-badge.svg\" alt=\"Open In Colab\"/></a>"
      ]
    },
    {
      "cell_type": "markdown",
      "source": [
        "**Algoritma Huffman Coding**\n",
        "<br>Data Test : AAAAAAABCCCCCCDDEEEEE"
      ],
      "metadata": {
        "id": "Q5gRJnqcWOW9"
      }
    },
    {
      "cell_type": "code",
      "execution_count": null,
      "metadata": {
        "colab": {
          "base_uri": "https://localhost:8080/"
        },
        "id": "nrEmGdHOORat",
        "outputId": "7776da60-dae7-4405-9ecc-7d8b601e9782"
      },
      "outputs": [
        {
          "output_type": "stream",
          "name": "stdout",
          "text": [
            "AAAAAAABCCCCCCDDEEEEE\n",
            "symbols:  dict_keys(['A', 'B', 'C', 'D', 'E'])\n",
            "probabilities:  dict_values([7, 1, 6, 2, 5])\n",
            "symbols with codes {'A': '00', 'C': '01', 'E': '10', 'D': '110', 'B': '111'}\n",
            "Space usage before compression (in bits): 168\n",
            "Space usage after compression (in bits): 45\n",
            "Encoded output 000000000000001110101010101011101101010101010\n",
            "Decoded Output AAAAAAABCCCCCCDDEEEEE\n"
          ]
        }
      ],
      "source": [
        "class Nodes:  \n",
        "    def __init__(self, probability, symbol, left = None, right = None):  \n",
        "        # probability of the symbol  \n",
        "        self.probability = probability  \n",
        "  \n",
        "        # the symbol  \n",
        "        self.symbol = symbol  \n",
        "  \n",
        "        # the left node  \n",
        "        self.left = left  \n",
        "  \n",
        "        # the right node  \n",
        "        self.right = right  \n",
        "  \n",
        "        # the tree direction (0 or 1)  \n",
        "        self.code = ''  \n",
        "  \n",
        "\"\"\" A supporting function in order to calculate the probabilities of symbols in specified data \"\"\"  \n",
        "def CalculateProbability(the_data):  \n",
        "    the_symbols = dict()  \n",
        "    for item in the_data:  \n",
        "        if the_symbols.get(item) == None:  \n",
        "            the_symbols[item] = 1  \n",
        "        else:   \n",
        "            the_symbols[item] += 1       \n",
        "    return the_symbols  \n",
        "  \n",
        "\"\"\" A supporting function in order to print the codes of symbols by travelling a Huffman Tree \"\"\"  \n",
        "the_codes = dict()  \n",
        "  \n",
        "def CalculateCodes(node, value = ''):  \n",
        "    # a huffman code for current node  \n",
        "    newValue = value + str(node.code)  \n",
        "  \n",
        "    if(node.left):  \n",
        "        CalculateCodes(node.left, newValue)  \n",
        "    if(node.right):  \n",
        "        CalculateCodes(node.right, newValue)  \n",
        "  \n",
        "    if(not node.left and not node.right):  \n",
        "        the_codes[node.symbol] = newValue  \n",
        "           \n",
        "    return the_codes  \n",
        "  \n",
        "\"\"\" A supporting function in order to get the encoded result \"\"\"  \n",
        "def OutputEncoded(the_data, coding):  \n",
        "    encodingOutput = []  \n",
        "    for element in the_data:  \n",
        "        # print(coding[element], end = '')  \n",
        "        encodingOutput.append(coding[element])  \n",
        "          \n",
        "    the_string = ''.join([str(item) for item in encodingOutput])      \n",
        "    return the_string  \n",
        "          \n",
        "\"\"\" A supporting function in order to calculate the space difference between compressed and non compressed data\"\"\"      \n",
        "def TotalGain(the_data, coding):  \n",
        "    # total bit space to store the data before compression  \n",
        "    beforeCompression = len(the_data) * 8  \n",
        "    afterCompression = 0  \n",
        "    the_symbols = coding.keys()  \n",
        "    for symbol in the_symbols:  \n",
        "        the_count = the_data.count(symbol)  \n",
        "        # calculating how many bit is required for that symbol in total  \n",
        "        afterCompression += the_count * len(coding[symbol])  \n",
        "    print(\"Space usage before compression (in bits):\", beforeCompression)  \n",
        "    print(\"Space usage after compression (in bits):\",  afterCompression)  \n",
        "  \n",
        "def HuffmanEncoding(the_data):  \n",
        "    symbolWithProbs = CalculateProbability(the_data)  \n",
        "    the_symbols = symbolWithProbs.keys()  \n",
        "    the_probabilities = symbolWithProbs.values()  \n",
        "    print(\"symbols: \", the_symbols)  \n",
        "    print(\"probabilities: \", the_probabilities)  \n",
        "      \n",
        "    the_nodes = []  \n",
        "      \n",
        "    # converting symbols and probabilities into huffman tree nodes  \n",
        "    for symbol in the_symbols:  \n",
        "        the_nodes.append(Nodes(symbolWithProbs.get(symbol), symbol))  \n",
        "      \n",
        "    while len(the_nodes) > 1:  \n",
        "        # sorting all the nodes in ascending order based on their probability  \n",
        "        the_nodes = sorted(the_nodes, key = lambda x: x.probability)  \n",
        "        # for node in nodes:    \n",
        "        #      print(node.symbol, node.prob)  \n",
        "      \n",
        "        # picking two smallest nodes  \n",
        "        right = the_nodes[0]  \n",
        "        left = the_nodes[1]  \n",
        "      \n",
        "        left.code = 0  \n",
        "        right.code = 1  \n",
        "      \n",
        "        # combining the 2 smallest nodes to create new node  \n",
        "        newNode = Nodes(left.probability + right.probability, left.symbol + right.symbol, left, right)  \n",
        "      \n",
        "        the_nodes.remove(left)  \n",
        "        the_nodes.remove(right)  \n",
        "        the_nodes.append(newNode)  \n",
        "              \n",
        "    huffmanEncoding = CalculateCodes(the_nodes[0])  \n",
        "    print(\"symbols with codes\", huffmanEncoding)  \n",
        "    TotalGain(the_data, huffmanEncoding)  \n",
        "    encodedOutput = OutputEncoded(the_data,huffmanEncoding)  \n",
        "    return encodedOutput, the_nodes[0]  \n",
        "   \n",
        "def HuffmanDecoding(encodedData, huffmanTree):  \n",
        "    treeHead = huffmanTree  \n",
        "    decodedOutput = []  \n",
        "    for x in encodedData:  \n",
        "        if x == '1':  \n",
        "            huffmanTree = huffmanTree.right     \n",
        "        elif x == '0':  \n",
        "            huffmanTree = huffmanTree.left  \n",
        "        try:  \n",
        "            if huffmanTree.left.symbol == None and huffmanTree.right.symbol == None:  \n",
        "                pass  \n",
        "        except AttributeError:  \n",
        "            decodedOutput.append(huffmanTree.symbol)  \n",
        "            huffmanTree = treeHead  \n",
        "          \n",
        "    string = ''.join([str(item) for item in decodedOutput])  \n",
        "    return string    \n",
        "  \n",
        "the_data = \"AAAAAAABCCCCCCDDEEEEE\"  \n",
        "print(the_data)  \n",
        "encoding, the_tree = HuffmanEncoding(the_data)  \n",
        "print(\"Encoded output\", encoding)  \n",
        "print(\"Decoded Output\", HuffmanDecoding(encoding, the_tree))"
      ]
    }
  ]
}